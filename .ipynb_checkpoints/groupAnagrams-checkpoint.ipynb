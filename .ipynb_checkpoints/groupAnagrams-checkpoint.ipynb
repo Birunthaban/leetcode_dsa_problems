{
 "cells": [
  {
   "cell_type": "code",
   "execution_count": null,
   "id": "1267e66e",
   "metadata": {},
   "outputs": [],
   "source": [
    "class Solution:\n",
    "    def groupAnagrams(self, strs: List[str]) -> List[List[str]]:\n",
    "        Sorted={}\n",
    "        Printing=[]\n",
    "        for string in strs:\n",
    "            sorted_string = ''.join(sorted(string))\n",
    "            if sorted_string in Sorted :\n",
    "                Sorted[sorted_string].append(string)\n",
    "            else:\n",
    "                Sorted[sorted_string]=[string]\n",
    "        for value in Sorted.values():\n",
    "            Printing.append(value)\n",
    "        return(Printing)\n"
   ]
  }
 ],
 "metadata": {
  "kernelspec": {
   "display_name": "Python 3 (ipykernel)",
   "language": "python",
   "name": "python3"
  },
  "language_info": {
   "codemirror_mode": {
    "name": "ipython",
    "version": 3
   },
   "file_extension": ".py",
   "mimetype": "text/x-python",
   "name": "python",
   "nbconvert_exporter": "python",
   "pygments_lexer": "ipython3",
   "version": "3.11.2"
  }
 },
 "nbformat": 4,
 "nbformat_minor": 5
}
